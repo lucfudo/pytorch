{
 "cells": [
  {
   "cell_type": "code",
   "id": "initial_id",
   "metadata": {
    "collapsed": true,
    "ExecuteTime": {
     "end_time": "2024-06-30T19:27:14.262218Z",
     "start_time": "2024-06-30T19:27:13.417354Z"
    }
   },
   "source": [
    "import torch\n",
    "x = torch.rand(5, 3)\n",
    "x"
   ],
   "outputs": [
    {
     "data": {
      "text/plain": [
       "tensor([[0.7221, 0.8036, 0.7042],\n",
       "        [0.0646, 0.9721, 0.0506],\n",
       "        [0.1068, 0.4871, 0.7151],\n",
       "        [0.1010, 0.6730, 0.0383],\n",
       "        [0.3802, 0.4524, 0.5303]])"
      ]
     },
     "execution_count": 1,
     "metadata": {},
     "output_type": "execute_result"
    }
   ],
   "execution_count": 1
  },
  {
   "metadata": {},
   "cell_type": "code",
   "outputs": [],
   "execution_count": null,
   "source": "",
   "id": "6dff34f9aaeaaf01"
  }
 ],
 "metadata": {
  "kernelspec": {
   "display_name": "Python 3",
   "language": "python",
   "name": "python3"
  },
  "language_info": {
   "codemirror_mode": {
    "name": "ipython",
    "version": 2
   },
   "file_extension": ".py",
   "mimetype": "text/x-python",
   "name": "python",
   "nbconvert_exporter": "python",
   "pygments_lexer": "ipython2",
   "version": "2.7.6"
  }
 },
 "nbformat": 4,
 "nbformat_minor": 5
}
